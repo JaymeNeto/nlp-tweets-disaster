{
  "nbformat": 4,
  "nbformat_minor": 0,
  "metadata": {
    "kernelspec": {
      "display_name": "Python 3",
      "language": "python",
      "name": "python3"
    },
    "language_info": {
      "codemirror_mode": {
        "name": "ipython",
        "version": 3
      },
      "file_extension": ".py",
      "mimetype": "text/x-python",
      "name": "python",
      "nbconvert_exporter": "python",
      "pygments_lexer": "ipython3",
      "version": "3.7.6"
    },
    "colab": {
      "name": "nlp_with_Tensorflow.ipynb",
      "provenance": [],
      "collapsed_sections": [],
      "include_colab_link": true
    },
    "accelerator": "TPU"
  },
  "cells": [
    {
      "cell_type": "markdown",
      "metadata": {
        "id": "view-in-github",
        "colab_type": "text"
      },
      "source": [
        "<a href=\"https://colab.research.google.com/github/JaymeNeto/nlp-tweets-disaster-detection/blob/master/nlp_with_Tensorflow.ipynb\" target=\"_parent\"><img src=\"https://colab.research.google.com/assets/colab-badge.svg\" alt=\"Open In Colab\"/></a>"
      ]
    },
    {
      "cell_type": "code",
      "metadata": {
        "id": "X-PJ_wU1DNo_",
        "colab_type": "code",
        "colab": {
          "base_uri": "https://localhost:8080/",
          "height": 122
        },
        "outputId": "57f0d0c0-fe74-486b-fadb-bfe0de1094e7"
      },
      "source": [
        "from google.colab import drive\n",
        "drive.mount('/content/drive')"
      ],
      "execution_count": 1,
      "outputs": [
        {
          "output_type": "stream",
          "text": [
            "Go to this URL in a browser: https://accounts.google.com/o/oauth2/auth?client_id=947318989803-6bn6qk8qdgf4n4g3pfee6491hc0brc4i.apps.googleusercontent.com&redirect_uri=urn%3aietf%3awg%3aoauth%3a2.0%3aoob&scope=email%20https%3a%2f%2fwww.googleapis.com%2fauth%2fdocs.test%20https%3a%2f%2fwww.googleapis.com%2fauth%2fdrive%20https%3a%2f%2fwww.googleapis.com%2fauth%2fdrive.photos.readonly%20https%3a%2f%2fwww.googleapis.com%2fauth%2fpeopleapi.readonly&response_type=code\n",
            "\n",
            "Enter your authorization code:\n",
            "··········\n",
            "Mounted at /content/drive\n"
          ],
          "name": "stdout"
        }
      ]
    },
    {
      "cell_type": "code",
      "metadata": {
        "_cell_guid": "b1076dfc-b9ad-4769-8c92-a6c4dae69d19",
        "_kg_hide-input": true,
        "_kg_hide-output": true,
        "_uuid": "8f2839f25d086af736a60e9eeb907d3b93b6e0e5",
        "id": "jtT6knlMCkml",
        "colab_type": "code",
        "colab": {
          "base_uri": "https://localhost:8080/",
          "height": 35
        },
        "outputId": "b802a38a-5f8a-4eb2-f47d-605feb7729cb"
      },
      "source": [
        "# This Python 3 environment comes with many helpful analytics libraries installed\n",
        "# It is defined by the kaggle/python Docker image: https://github.com/kaggle/docker-python\n",
        "# For example, here's several helpful packages to load\n",
        "\n",
        "import numpy as np # linear algebra\n",
        "import pandas as pd # data processing, CSV file I/O (e.g. pd.read_csv)\n",
        "\n",
        "# Input data files are available in the read-only \"../input/\" directory\n",
        "# For example, running this (by clicking run or pressing Shift+Enter) will list all files under the input directory\n",
        "\n",
        "import os\n",
        "'''for dirname, _, filenames in os.walk('/kaggle/input'):\n",
        "    for filename in filenames:\n",
        "        print(os.path.join(dirname, filename))'''\n",
        "\n",
        "# You can write up to 5GB to the current directory (/kaggle/working/) that gets preserved as output when you create a version using \"Save & Run All\" \n",
        "# You can also write temporary files to /kaggle/temp/, but they won't be saved outside of the current session"
      ],
      "execution_count": 2,
      "outputs": [
        {
          "output_type": "execute_result",
          "data": {
            "application/vnd.google.colaboratory.intrinsic+json": {
              "type": "string"
            },
            "text/plain": [
              "\"for dirname, _, filenames in os.walk('/kaggle/input'):\\n    for filename in filenames:\\n        print(os.path.join(dirname, filename))\""
            ]
          },
          "metadata": {
            "tags": []
          },
          "execution_count": 2
        }
      ]
    },
    {
      "cell_type": "code",
      "metadata": {
        "id": "rvUYehPiCkmq",
        "colab_type": "code",
        "colab": {
          "base_uri": "https://localhost:8080/",
          "height": 51
        },
        "outputId": "1ceb5213-993f-4d9d-f914-f9fb31ad5d95"
      },
      "source": [
        "print('Loading word vectors...')\n",
        "word2vec = {}\n",
        "with open(os.path.join('/content/drive/My Drive/Notebooks/Kaggle/nlp-tweets-disaster/glove.twitter.27B.200d.txt'), encoding = \"utf-8\") as f:\n",
        "  # is just a space-separated text file in the format:\n",
        "  # word vec[0] vec[1] vec[2] ...\n",
        "    for line in f:\n",
        "        values = line.split() #split at space\n",
        "        word = values[0]\n",
        "        vec = np.asarray(values[1:], dtype='float32') #numpy.asarray()function is used when we want to convert input to an array.\n",
        "        word2vec[word] = vec\n",
        "print('Found %s word vectors.' % len(word2vec))"
      ],
      "execution_count": 3,
      "outputs": [
        {
          "output_type": "stream",
          "text": [
            "Loading word vectors...\n",
            "Found 1193514 word vectors.\n"
          ],
          "name": "stdout"
        }
      ]
    },
    {
      "cell_type": "code",
      "metadata": {
        "_cell_guid": "79c7e3d0-c299-4dcb-8224-4455121ee9b0",
        "_uuid": "d629ff2d2480ee46fbb7e2d37f6b5fab8052498a",
        "id": "hecqRn_xCkmw",
        "colab_type": "code",
        "colab": {
          "base_uri": "https://localhost:8080/",
          "height": 204
        },
        "outputId": "75e5ac3b-7f97-4bf8-8251-0f5f4acd8540"
      },
      "source": [
        "import pandas as pd\n",
        "train_df = pd.read_csv('/content/drive/My Drive/Notebooks/Kaggle/nlp-tweets-disaster/train.csv')\n",
        "test_df = pd.read_csv('/content/drive/My Drive/Notebooks/Kaggle/nlp-tweets-disaster/test.csv')\n",
        "train_df.head()"
      ],
      "execution_count": 4,
      "outputs": [
        {
          "output_type": "execute_result",
          "data": {
            "text/html": [
              "<div>\n",
              "<style scoped>\n",
              "    .dataframe tbody tr th:only-of-type {\n",
              "        vertical-align: middle;\n",
              "    }\n",
              "\n",
              "    .dataframe tbody tr th {\n",
              "        vertical-align: top;\n",
              "    }\n",
              "\n",
              "    .dataframe thead th {\n",
              "        text-align: right;\n",
              "    }\n",
              "</style>\n",
              "<table border=\"1\" class=\"dataframe\">\n",
              "  <thead>\n",
              "    <tr style=\"text-align: right;\">\n",
              "      <th></th>\n",
              "      <th>id</th>\n",
              "      <th>keyword</th>\n",
              "      <th>location</th>\n",
              "      <th>text</th>\n",
              "      <th>target</th>\n",
              "    </tr>\n",
              "  </thead>\n",
              "  <tbody>\n",
              "    <tr>\n",
              "      <th>0</th>\n",
              "      <td>1</td>\n",
              "      <td>NaN</td>\n",
              "      <td>NaN</td>\n",
              "      <td>Our Deeds are the Reason of this #earthquake M...</td>\n",
              "      <td>1</td>\n",
              "    </tr>\n",
              "    <tr>\n",
              "      <th>1</th>\n",
              "      <td>4</td>\n",
              "      <td>NaN</td>\n",
              "      <td>NaN</td>\n",
              "      <td>Forest fire near La Ronge Sask. Canada</td>\n",
              "      <td>1</td>\n",
              "    </tr>\n",
              "    <tr>\n",
              "      <th>2</th>\n",
              "      <td>5</td>\n",
              "      <td>NaN</td>\n",
              "      <td>NaN</td>\n",
              "      <td>All residents asked to 'shelter in place' are ...</td>\n",
              "      <td>1</td>\n",
              "    </tr>\n",
              "    <tr>\n",
              "      <th>3</th>\n",
              "      <td>6</td>\n",
              "      <td>NaN</td>\n",
              "      <td>NaN</td>\n",
              "      <td>13,000 people receive #wildfires evacuation or...</td>\n",
              "      <td>1</td>\n",
              "    </tr>\n",
              "    <tr>\n",
              "      <th>4</th>\n",
              "      <td>7</td>\n",
              "      <td>NaN</td>\n",
              "      <td>NaN</td>\n",
              "      <td>Just got sent this photo from Ruby #Alaska as ...</td>\n",
              "      <td>1</td>\n",
              "    </tr>\n",
              "  </tbody>\n",
              "</table>\n",
              "</div>"
            ],
            "text/plain": [
              "   id keyword  ...                                               text target\n",
              "0   1     NaN  ...  Our Deeds are the Reason of this #earthquake M...      1\n",
              "1   4     NaN  ...             Forest fire near La Ronge Sask. Canada      1\n",
              "2   5     NaN  ...  All residents asked to 'shelter in place' are ...      1\n",
              "3   6     NaN  ...  13,000 people receive #wildfires evacuation or...      1\n",
              "4   7     NaN  ...  Just got sent this photo from Ruby #Alaska as ...      1\n",
              "\n",
              "[5 rows x 5 columns]"
            ]
          },
          "metadata": {
            "tags": []
          },
          "execution_count": 4
        }
      ]
    },
    {
      "cell_type": "code",
      "metadata": {
        "id": "Q1vmAy7_Ckm1",
        "colab_type": "code",
        "colab": {
          "base_uri": "https://localhost:8080/",
          "height": 119
        },
        "outputId": "9304107a-bb53-4483-c15f-747d0607e75e"
      },
      "source": [
        "train_df.isnull().sum()"
      ],
      "execution_count": 5,
      "outputs": [
        {
          "output_type": "execute_result",
          "data": {
            "text/plain": [
              "id             0\n",
              "keyword       61\n",
              "location    2533\n",
              "text           0\n",
              "target         0\n",
              "dtype: int64"
            ]
          },
          "metadata": {
            "tags": []
          },
          "execution_count": 5
        }
      ]
    },
    {
      "cell_type": "code",
      "metadata": {
        "id": "IUzDfvSECkm5",
        "colab_type": "code",
        "colab": {
          "base_uri": "https://localhost:8080/",
          "height": 102
        },
        "outputId": "84d9ea8f-d434-449f-8d04-afa51ee53d1d"
      },
      "source": [
        "import pandas as pd\n",
        "import numpy as np\n",
        "\n",
        "import re\n",
        "import nltk\n",
        "from nltk.corpus import stopwords\n",
        "from nltk.stem.porter import PorterStemmer\n",
        "from nltk.tokenize import word_tokenize, sent_tokenize\n",
        "from nltk.stem.wordnet import WordNetLemmatizer\n",
        "from sklearn.naive_bayes import MultinomialNB\n",
        "from sklearn.feature_extraction.text import CountVectorizer, TfidfTransformer\n",
        "import string\n",
        "\n",
        "from sklearn.model_selection import train_test_split\n",
        "from sklearn.metrics import confusion_matrix, classification_report, accuracy_score, f1_score\n",
        "\n",
        "import tensorflow as tf\n",
        "from tensorflow import keras\n",
        "from tensorflow.keras.preprocessing.text import Tokenizer\n",
        "from tensorflow.keras.preprocessing.sequence import pad_sequences\n",
        "from tensorflow.keras.layers import Dense, LSTM, Embedding\n",
        "from tensorflow.keras.models import Sequential\n",
        "import os\n",
        "\n",
        "nltk.download('stopwords')\n",
        "nltk.download('wordnet')"
      ],
      "execution_count": 6,
      "outputs": [
        {
          "output_type": "stream",
          "text": [
            "[nltk_data] Downloading package stopwords to /root/nltk_data...\n",
            "[nltk_data]   Unzipping corpora/stopwords.zip.\n",
            "[nltk_data] Downloading package wordnet to /root/nltk_data...\n",
            "[nltk_data]   Unzipping corpora/wordnet.zip.\n"
          ],
          "name": "stdout"
        },
        {
          "output_type": "execute_result",
          "data": {
            "text/plain": [
              "True"
            ]
          },
          "metadata": {
            "tags": []
          },
          "execution_count": 6
        }
      ]
    },
    {
      "cell_type": "code",
      "metadata": {
        "id": "lM_6fIIdCkm9",
        "colab_type": "code",
        "colab": {
          "base_uri": "https://localhost:8080/",
          "height": 51
        },
        "outputId": "123ef817-b542-4413-84cc-fe1e1211aa4c"
      },
      "source": [
        "print(train_df.shape)\n",
        "print(test_df.shape)"
      ],
      "execution_count": 7,
      "outputs": [
        {
          "output_type": "stream",
          "text": [
            "(7613, 5)\n",
            "(3263, 4)\n"
          ],
          "name": "stdout"
        }
      ]
    },
    {
      "cell_type": "code",
      "metadata": {
        "id": "GO6mcRDbCknB",
        "colab_type": "code",
        "colab": {}
      },
      "source": [
        "train_sentences = train_df.text.values\n",
        "train_labels = train_df.target.values\n",
        "test_sentences = test_df.text.values"
      ],
      "execution_count": 8,
      "outputs": []
    },
    {
      "cell_type": "code",
      "metadata": {
        "id": "JJgio7m7wKVC",
        "colab_type": "code",
        "colab": {
          "base_uri": "https://localhost:8080/",
          "height": 34
        },
        "outputId": "582e72c5-c364-4a27-ff3e-5e90a1537d60"
      },
      "source": [
        "train_size = len(train_sentences)\n",
        "train_size"
      ],
      "execution_count": 9,
      "outputs": [
        {
          "output_type": "execute_result",
          "data": {
            "text/plain": [
              "7613"
            ]
          },
          "metadata": {
            "tags": []
          },
          "execution_count": 9
        }
      ]
    },
    {
      "cell_type": "code",
      "metadata": {
        "id": "mX6_nWjzCknG",
        "colab_type": "code",
        "colab": {}
      },
      "source": [
        "import string\n",
        "import re\n",
        "punctuation = re.sub('(<|>)', '', string.punctuation)\n",
        "\n",
        "\n",
        "#remove html tags\n",
        "def remove_html(text):\n",
        "    html=re.compile(r'<.*?>')\n",
        "    return html.sub(r'',text)\n",
        "\n",
        "#remove urls\n",
        "def remove_urls(text):\n",
        "    url = re.compile(r'https?://\\S+|www\\.\\S+')\n",
        "    return url.sub(r'<URL>',text)\n",
        "\n",
        "def remove_numbers(text):\n",
        "  numbers = re.compile('[-+]?[.\\d]*[\\d]+[:,.\\d]*')\n",
        "  return numbers.sub(r'<NUMBER>',text)\n",
        "\n",
        "def remove_user(text):\n",
        "  user = re.compile(r'@\\w+')\n",
        "  return user.sub('<USER>', text)\n",
        "\n",
        "# splitting the text\n",
        "def split_text(text):\n",
        "    text = text.split()\n",
        "    return text\n",
        "\n",
        " # making lower case words\n",
        "def lower(text):\n",
        "    text = [word.lower() for word in text]\n",
        "    return str(text)\n",
        "\n",
        "#remove punct\n",
        "def remove_punct(text):\n",
        "    text = ''.join([char for char in text if char not in punctuation])\n",
        "    text = re.sub('[0-9]+', '', str(text))\n",
        "    return text\n",
        "\n",
        "\n",
        "#remove stopwords\n",
        "def remove_stopwords(text):\n",
        "    pattern = re.compile(r'\\b('+r'|'.join(stopwords.words('english')) + r')\\b\\s*')\n",
        "    text = pattern.sub(' ', text)\n",
        "    return text\n",
        "\n",
        "#lemmatization\n",
        "lemmatizer = WordNetLemmatizer()\n",
        "def lemmatize_words(text):\n",
        "    text = lemmatizer.lemmatize(text)\n",
        "    return text"
      ],
      "execution_count": 10,
      "outputs": []
    },
    {
      "cell_type": "code",
      "metadata": {
        "id": "HtA-qVkcCknJ",
        "colab_type": "code",
        "colab": {}
      },
      "source": [
        "def final(text):\n",
        "    t0 = remove_html(text)\n",
        "    t1 = remove_urls(t0)\n",
        "    t2 = remove_user(t1)\n",
        "    t3 = remove_numbers(t2)\n",
        "    t4 = split_text(t3)\n",
        "    t5 = lower(t4)\n",
        "    t6 = remove_punct(t5)\n",
        "    t7 = remove_stopwords(t6)\n",
        "    t8 = lemmatize_words(t7)\n",
        "    return t8"
      ],
      "execution_count": 11,
      "outputs": []
    },
    {
      "cell_type": "code",
      "metadata": {
        "id": "-XTx3ZKHCknN",
        "colab_type": "code",
        "colab": {}
      },
      "source": [
        "training_sentences = []\n",
        "for i in range(len(train_sentences)):\n",
        "    data = final(train_sentences[i])\n",
        "    training_sentences.append(data)\n",
        "\n",
        "testing_sentences = []\n",
        "for i in range(len(test_sentences)):\n",
        "    data = final(test_sentences[i])\n",
        "    testing_sentences.append(data)"
      ],
      "execution_count": 12,
      "outputs": []
    },
    {
      "cell_type": "code",
      "metadata": {
        "id": "C1YDEoYkCknQ",
        "colab_type": "code",
        "colab": {
          "base_uri": "https://localhost:8080/",
          "height": 68
        },
        "outputId": "29793aa5-c94f-4af3-a0c1-46449ba093bc"
      },
      "source": [
        "num_words = 25000\n",
        "embedding_dim = 200\n",
        "max_length = 32\n",
        "trunc_type='post'\n",
        "padding_type='post'\n",
        "oov_tok = 'OOV'\n",
        "\n",
        "tokenizer = Tokenizer(num_words=num_words, oov_token=oov_tok, filters=punctuation)\n",
        "tokenizer.fit_on_texts(training_sentences)\n",
        "train_sequences = tokenizer.texts_to_sequences(training_sentences)\n",
        "\n",
        "word_index = tokenizer.word_index\n",
        "padded_train = pad_sequences(sequences=train_sequences, maxlen=max_length, padding=padding_type, truncating=trunc_type)\n",
        "\n",
        "print('Total unique tokens generated: ',len(word_index))\n",
        "print('Shape of padded train tensor: ', padded_train.shape)\n",
        "\n",
        "#tokenizer = Tokenizer(num_words=num_words, oov_token=oov_tok)\n",
        "#tokenizer.fit_on_texts(testing_sentences)\n",
        "test_sequences = tokenizer.texts_to_sequences(testing_sentences)\n",
        "padded_test = pad_sequences(sequences=test_sequences, maxlen=max_length, padding=padding_type, truncating=trunc_type)\n",
        "\n",
        "print('Shape of padded test tensor: ', padded_test.shape)"
      ],
      "execution_count": 13,
      "outputs": [
        {
          "output_type": "stream",
          "text": [
            "Total unique tokens generated:  15091\n",
            "Shape of padded train tensor:  (7613, 32)\n",
            "Shape of padded test tensor:  (3263, 32)\n"
          ],
          "name": "stdout"
        }
      ]
    },
    {
      "cell_type": "code",
      "metadata": {
        "id": "7plLccTcfzZw",
        "colab_type": "code",
        "colab": {
          "base_uri": "https://localhost:8080/",
          "height": 204
        },
        "outputId": "ed007efe-750e-47f4-b7fc-b5f30cb3cc77"
      },
      "source": [
        "print(training_sentences[-1], '\\n', train_sequences[-1])\n",
        "for word in training_sentences[-1].split():\n",
        "  if word_index.get(word):\n",
        "    print(word +':',word_index.get(word))"
      ],
      "execution_count": null,
      "outputs": [
        {
          "output_type": "stream",
          "text": [
            " latest  homes razed  northern california wildfire  abc news <url> \n",
            " [116, 111, 422, 103, 27, 87, 614, 14, 2]\n",
            "latest: 116\n",
            "homes: 111\n",
            "razed: 422\n",
            "northern: 103\n",
            "california: 27\n",
            "wildfire: 87\n",
            "abc: 614\n",
            "news: 14\n",
            "<url>: 2\n"
          ],
          "name": "stdout"
        }
      ]
    },
    {
      "cell_type": "code",
      "metadata": {
        "id": "XjgBs8f0M2Hz",
        "colab_type": "code",
        "colab": {
          "base_uri": "https://localhost:8080/",
          "height": 102
        },
        "outputId": "e6dc957c-6550-4400-b909-dfa5c78f9a3d"
      },
      "source": [
        "train_sequences[:5]"
      ],
      "execution_count": null,
      "outputs": [
        {
          "output_type": "execute_result",
          "data": {
            "text/plain": [
              "[[4218, 703, 150, 55, 1420, 4219, 17],\n",
              " [100, 8, 132, 568, 6291, 6292, 1216],\n",
              " [1538, 1421, 1921, 543, 6293, 1539, 151, 1921, 543, 1217, 931],\n",
              " [4, 12, 4220, 1218, 151, 1217, 27],\n",
              " [30, 1044, 222, 6294, 2196, 162, 1218, 6295, 97]]"
            ]
          },
          "metadata": {
            "tags": []
          },
          "execution_count": 17
        }
      ]
    },
    {
      "cell_type": "code",
      "metadata": {
        "id": "RWCv1A5GMolZ",
        "colab_type": "code",
        "colab": {
          "base_uri": "https://localhost:8080/",
          "height": 289
        },
        "outputId": "0006fd52-dd11-4c74-ab26-4ac0421c600c"
      },
      "source": [
        "padded_train[:5]"
      ],
      "execution_count": null,
      "outputs": [
        {
          "output_type": "execute_result",
          "data": {
            "text/plain": [
              "array([[4218,  703,  150,   55, 1420, 4219,   17,    0,    0,    0,    0,\n",
              "           0,    0,    0,    0,    0,    0,    0,    0,    0,    0,    0,\n",
              "           0,    0,    0,    0,    0,    0,    0,    0,    0,    0],\n",
              "       [ 100,    8,  132,  568, 6291, 6292, 1216,    0,    0,    0,    0,\n",
              "           0,    0,    0,    0,    0,    0,    0,    0,    0,    0,    0,\n",
              "           0,    0,    0,    0,    0,    0,    0,    0,    0,    0],\n",
              "       [1538, 1421, 1921,  543, 6293, 1539,  151, 1921,  543, 1217,  931,\n",
              "           0,    0,    0,    0,    0,    0,    0,    0,    0,    0,    0,\n",
              "           0,    0,    0,    0,    0,    0,    0,    0,    0,    0],\n",
              "       [   4,   12, 4220, 1218,  151, 1217,   27,    0,    0,    0,    0,\n",
              "           0,    0,    0,    0,    0,    0,    0,    0,    0,    0,    0,\n",
              "           0,    0,    0,    0,    0,    0,    0,    0,    0,    0],\n",
              "       [  30, 1044,  222, 6294, 2196,  162, 1218, 6295,   97,    0,    0,\n",
              "           0,    0,    0,    0,    0,    0,    0,    0,    0,    0,    0,\n",
              "           0,    0,    0,    0,    0,    0,    0,    0,    0,    0]],\n",
              "      dtype=int32)"
            ]
          },
          "metadata": {
            "tags": []
          },
          "execution_count": 18
        }
      ]
    },
    {
      "cell_type": "code",
      "metadata": {
        "id": "GJdfyO2sCknU",
        "colab_type": "code",
        "colab": {}
      },
      "source": [
        "num_words = min(20000, len(word_index)+1)\n",
        "embedding_matrix = np.zeros((num_words, embedding_dim))\n",
        "\n",
        "embeddings = []\n",
        "for word, i in word_index.items():\n",
        "    if i<20000:\n",
        "        embeddings = word2vec.get(word)\n",
        "        if embeddings is not None:\n",
        "            embedding_matrix[i] = embeddings"
      ],
      "execution_count": 14,
      "outputs": []
    },
    {
      "cell_type": "code",
      "metadata": {
        "id": "DCDvowQ4CknX",
        "colab_type": "code",
        "colab": {
          "base_uri": "https://localhost:8080/",
          "height": 289
        },
        "outputId": "5c0cb066-47fa-4157-b54d-4f3e311f9ab9"
      },
      "source": [
        "from tensorflow.keras.callbacks import ModelCheckpoint\n",
        "'''model = tf.keras.Sequential([tf.keras.layers.Embedding(input_dim=num_words,\n",
        "                                                       output_dim = embedding_dim,\n",
        "                                                       weights=[embedding_matrix],\n",
        "                                                       input_length=max_length,\n",
        "                                                       trainable=False),\n",
        "                             tf.keras.layers.Bidirectional(tf.keras.layers.LSTM(100, return_sequences=True)),\n",
        "                             tf.keras.layers.Bidirectional(tf.keras.layers.LSTM(32, return_sequences=True)),\n",
        "                             tf.keras.layers.Flatten(),\n",
        "                             tf.keras.layers.Dense(1, activation='sigmoid')])\n",
        "\n",
        "model.compile(loss='binary_crossentropy',\n",
        "              optimizer=tf.keras.optimizers.Adam(lr=0.01),\n",
        "              metrics=['accuracy'])'''\n",
        "\n",
        "#checkpoint = ModelCheckpoint('model.h5', monitor='val_loss', save_best_only=True)\n",
        "\n",
        "\n",
        "model = tf.keras.Sequential([\n",
        "    tf.keras.layers.Embedding(input_dim=num_words,\n",
        "                              output_dim = embedding_dim,\n",
        "                              weights=[embedding_matrix],\n",
        "                              input_length=max_length,\n",
        "                              trainable=False),\n",
        "    tf.keras.layers.GlobalAveragePooling1D(),\n",
        "    tf.keras.layers.Dense(24, activation='relu'),\n",
        "    tf.keras.layers.Dense(1, activation='sigmoid')\n",
        "])\n",
        "model.compile(loss='binary_crossentropy',optimizer='adam',metrics=['accuracy'])\n",
        "\n",
        "\n",
        "\n",
        "model.summary()"
      ],
      "execution_count": 15,
      "outputs": [
        {
          "output_type": "stream",
          "text": [
            "Model: \"sequential\"\n",
            "_________________________________________________________________\n",
            "Layer (type)                 Output Shape              Param #   \n",
            "=================================================================\n",
            "embedding (Embedding)        (None, 32, 200)           3018400   \n",
            "_________________________________________________________________\n",
            "global_average_pooling1d (Gl (None, 200)               0         \n",
            "_________________________________________________________________\n",
            "dense (Dense)                (None, 24)                4824      \n",
            "_________________________________________________________________\n",
            "dense_1 (Dense)              (None, 1)                 25        \n",
            "=================================================================\n",
            "Total params: 3,023,249\n",
            "Trainable params: 4,849\n",
            "Non-trainable params: 3,018,400\n",
            "_________________________________________________________________\n"
          ],
          "name": "stdout"
        }
      ]
    },
    {
      "cell_type": "code",
      "metadata": {
        "id": "LZh830nlCkna",
        "colab_type": "code",
        "colab": {
          "base_uri": "https://localhost:8080/",
          "height": 527
        },
        "outputId": "8fa47e23-e357-4db7-8864-71e4452b9970"
      },
      "source": [
        "history_10=model.fit(padded_train,\n",
        "                  train_labels,\n",
        "                  validation_split=0.15,\n",
        "                  batch_size=10,\n",
        "                  epochs=15)"
      ],
      "execution_count": 16,
      "outputs": [
        {
          "output_type": "stream",
          "text": [
            "Epoch 1/15\n",
            "648/648 [==============================] - 1s 2ms/step - loss: 0.5144 - accuracy: 0.7750 - val_loss: 0.4449 - val_accuracy: 0.7898\n",
            "Epoch 2/15\n",
            "648/648 [==============================] - 1s 1ms/step - loss: 0.4412 - accuracy: 0.8040 - val_loss: 0.4363 - val_accuracy: 0.8012\n",
            "Epoch 3/15\n",
            "648/648 [==============================] - 1s 1ms/step - loss: 0.4289 - accuracy: 0.8084 - val_loss: 0.4328 - val_accuracy: 0.8004\n",
            "Epoch 4/15\n",
            "648/648 [==============================] - 1s 1ms/step - loss: 0.4224 - accuracy: 0.8125 - val_loss: 0.4346 - val_accuracy: 0.7951\n",
            "Epoch 5/15\n",
            "648/648 [==============================] - 1s 1ms/step - loss: 0.4176 - accuracy: 0.8146 - val_loss: 0.4338 - val_accuracy: 0.8039\n",
            "Epoch 6/15\n",
            "648/648 [==============================] - 1s 1ms/step - loss: 0.4133 - accuracy: 0.8169 - val_loss: 0.4338 - val_accuracy: 0.7995\n",
            "Epoch 7/15\n",
            "648/648 [==============================] - 1s 1ms/step - loss: 0.4096 - accuracy: 0.8166 - val_loss: 0.4342 - val_accuracy: 0.7977\n",
            "Epoch 8/15\n",
            "648/648 [==============================] - 1s 1ms/step - loss: 0.4052 - accuracy: 0.8190 - val_loss: 0.4339 - val_accuracy: 0.8047\n",
            "Epoch 9/15\n",
            "648/648 [==============================] - 1s 1ms/step - loss: 0.4020 - accuracy: 0.8189 - val_loss: 0.4354 - val_accuracy: 0.8074\n",
            "Epoch 10/15\n",
            "648/648 [==============================] - 1s 1ms/step - loss: 0.3988 - accuracy: 0.8192 - val_loss: 0.4331 - val_accuracy: 0.8012\n",
            "Epoch 11/15\n",
            "648/648 [==============================] - 1s 1ms/step - loss: 0.3962 - accuracy: 0.8224 - val_loss: 0.4335 - val_accuracy: 0.8030\n",
            "Epoch 12/15\n",
            "648/648 [==============================] - 1s 1ms/step - loss: 0.3926 - accuracy: 0.8260 - val_loss: 0.4326 - val_accuracy: 0.8100\n",
            "Epoch 13/15\n",
            "648/648 [==============================] - 1s 1ms/step - loss: 0.3907 - accuracy: 0.8275 - val_loss: 0.4325 - val_accuracy: 0.8091\n",
            "Epoch 14/15\n",
            "648/648 [==============================] - 1s 1ms/step - loss: 0.3880 - accuracy: 0.8285 - val_loss: 0.4319 - val_accuracy: 0.8047\n",
            "Epoch 15/15\n",
            "648/648 [==============================] - 1s 1ms/step - loss: 0.3860 - accuracy: 0.8291 - val_loss: 0.4363 - val_accuracy: 0.7977\n"
          ],
          "name": "stdout"
        }
      ]
    },
    {
      "cell_type": "code",
      "metadata": {
        "colab_type": "code",
        "id": "vS6yaBELt70O",
        "colab": {
          "base_uri": "https://localhost:8080/",
          "height": 527
        },
        "outputId": "1af35d70-179d-4d4d-92e3-3dc8c581b261"
      },
      "source": [
        "history_100=model.fit(padded_train,\n",
        "                  train_labels,\n",
        "                  validation_split=0.15,\n",
        "                  batch_size=100,\n",
        "                  epochs=15)"
      ],
      "execution_count": 22,
      "outputs": [
        {
          "output_type": "stream",
          "text": [
            "Epoch 1/15\n",
            "65/65 [==============================] - 0s 3ms/step - loss: 0.3707 - accuracy: 0.8387 - val_loss: 0.4353 - val_accuracy: 0.8056\n",
            "Epoch 2/15\n",
            "65/65 [==============================] - 0s 2ms/step - loss: 0.3706 - accuracy: 0.8380 - val_loss: 0.4360 - val_accuracy: 0.8039\n",
            "Epoch 3/15\n",
            "65/65 [==============================] - 0s 3ms/step - loss: 0.3704 - accuracy: 0.8387 - val_loss: 0.4351 - val_accuracy: 0.8039\n",
            "Epoch 4/15\n",
            "65/65 [==============================] - 0s 2ms/step - loss: 0.3696 - accuracy: 0.8385 - val_loss: 0.4355 - val_accuracy: 0.8065\n",
            "Epoch 5/15\n",
            "65/65 [==============================] - 0s 2ms/step - loss: 0.3691 - accuracy: 0.8391 - val_loss: 0.4358 - val_accuracy: 0.8030\n",
            "Epoch 6/15\n",
            "65/65 [==============================] - 0s 2ms/step - loss: 0.3686 - accuracy: 0.8388 - val_loss: 0.4356 - val_accuracy: 0.8039\n",
            "Epoch 7/15\n",
            "65/65 [==============================] - 0s 2ms/step - loss: 0.3680 - accuracy: 0.8394 - val_loss: 0.4357 - val_accuracy: 0.8004\n",
            "Epoch 8/15\n",
            "65/65 [==============================] - 0s 3ms/step - loss: 0.3675 - accuracy: 0.8397 - val_loss: 0.4362 - val_accuracy: 0.8021\n",
            "Epoch 9/15\n",
            "65/65 [==============================] - 0s 2ms/step - loss: 0.3671 - accuracy: 0.8394 - val_loss: 0.4366 - val_accuracy: 0.8021\n",
            "Epoch 10/15\n",
            "65/65 [==============================] - 0s 2ms/step - loss: 0.3672 - accuracy: 0.8393 - val_loss: 0.4363 - val_accuracy: 0.8039\n",
            "Epoch 11/15\n",
            "65/65 [==============================] - 0s 2ms/step - loss: 0.3663 - accuracy: 0.8404 - val_loss: 0.4362 - val_accuracy: 0.8030\n",
            "Epoch 12/15\n",
            "65/65 [==============================] - 0s 2ms/step - loss: 0.3657 - accuracy: 0.8410 - val_loss: 0.4362 - val_accuracy: 0.8021\n",
            "Epoch 13/15\n",
            "65/65 [==============================] - 0s 2ms/step - loss: 0.3651 - accuracy: 0.8411 - val_loss: 0.4367 - val_accuracy: 0.8012\n",
            "Epoch 14/15\n",
            "65/65 [==============================] - 0s 2ms/step - loss: 0.3647 - accuracy: 0.8411 - val_loss: 0.4373 - val_accuracy: 0.8047\n",
            "Epoch 15/15\n",
            "65/65 [==============================] - 0s 2ms/step - loss: 0.3639 - accuracy: 0.8424 - val_loss: 0.4370 - val_accuracy: 0.8030\n"
          ],
          "name": "stdout"
        }
      ]
    },
    {
      "cell_type": "code",
      "metadata": {
        "colab_type": "code",
        "id": "Tez_ajaYt65O",
        "colab": {
          "base_uri": "https://localhost:8080/",
          "height": 527
        },
        "outputId": "d7c37af2-d971-43dd-e386-972da54e180e"
      },
      "source": [
        "history_500=model.fit(padded_train,\n",
        "                  train_labels,\n",
        "                  validation_split=0.15,\n",
        "                  batch_size=500,\n",
        "                  epochs=15)"
      ],
      "execution_count": 18,
      "outputs": [
        {
          "output_type": "stream",
          "text": [
            "Epoch 1/15\n",
            "13/13 [==============================] - 0s 10ms/step - loss: 0.3712 - accuracy: 0.8377 - val_loss: 0.4341 - val_accuracy: 0.8047\n",
            "Epoch 2/15\n",
            "13/13 [==============================] - 0s 8ms/step - loss: 0.3710 - accuracy: 0.8385 - val_loss: 0.4341 - val_accuracy: 0.8030\n",
            "Epoch 3/15\n",
            "13/13 [==============================] - 0s 7ms/step - loss: 0.3709 - accuracy: 0.8387 - val_loss: 0.4342 - val_accuracy: 0.8039\n",
            "Epoch 4/15\n",
            "13/13 [==============================] - 0s 8ms/step - loss: 0.3708 - accuracy: 0.8391 - val_loss: 0.4343 - val_accuracy: 0.8030\n",
            "Epoch 5/15\n",
            "13/13 [==============================] - 0s 8ms/step - loss: 0.3707 - accuracy: 0.8388 - val_loss: 0.4343 - val_accuracy: 0.8039\n",
            "Epoch 6/15\n",
            "13/13 [==============================] - 0s 7ms/step - loss: 0.3706 - accuracy: 0.8388 - val_loss: 0.4344 - val_accuracy: 0.8030\n",
            "Epoch 7/15\n",
            "13/13 [==============================] - 0s 8ms/step - loss: 0.3705 - accuracy: 0.8388 - val_loss: 0.4345 - val_accuracy: 0.8021\n",
            "Epoch 8/15\n",
            "13/13 [==============================] - 0s 8ms/step - loss: 0.3705 - accuracy: 0.8390 - val_loss: 0.4344 - val_accuracy: 0.8030\n",
            "Epoch 9/15\n",
            "13/13 [==============================] - 0s 8ms/step - loss: 0.3704 - accuracy: 0.8388 - val_loss: 0.4345 - val_accuracy: 0.8021\n",
            "Epoch 10/15\n",
            "13/13 [==============================] - 0s 8ms/step - loss: 0.3703 - accuracy: 0.8388 - val_loss: 0.4345 - val_accuracy: 0.8030\n",
            "Epoch 11/15\n",
            "13/13 [==============================] - 0s 7ms/step - loss: 0.3702 - accuracy: 0.8388 - val_loss: 0.4346 - val_accuracy: 0.8030\n",
            "Epoch 12/15\n",
            "13/13 [==============================] - 0s 8ms/step - loss: 0.3701 - accuracy: 0.8388 - val_loss: 0.4346 - val_accuracy: 0.8030\n",
            "Epoch 13/15\n",
            "13/13 [==============================] - 0s 8ms/step - loss: 0.3701 - accuracy: 0.8388 - val_loss: 0.4347 - val_accuracy: 0.8021\n",
            "Epoch 14/15\n",
            "13/13 [==============================] - 0s 8ms/step - loss: 0.3699 - accuracy: 0.8391 - val_loss: 0.4347 - val_accuracy: 0.8021\n",
            "Epoch 15/15\n",
            "13/13 [==============================] - 0s 7ms/step - loss: 0.3698 - accuracy: 0.8387 - val_loss: 0.4347 - val_accuracy: 0.8030\n"
          ],
          "name": "stdout"
        }
      ]
    },
    {
      "cell_type": "code",
      "metadata": {
        "id": "KTTEPWRrCkng",
        "colab_type": "code",
        "colab": {
          "base_uri": "https://localhost:8080/",
          "height": 839
        },
        "outputId": "0f6900b8-d2bc-4a5f-b8cc-a33e8efd61cf"
      },
      "source": [
        "from matplotlib import pyplot\n",
        "pyplot.figure(figsize=(24,14))\n",
        "pyplot.subplot(211)\n",
        "#pyplot.figure(figsize=(24,14))\n",
        "pyplot.plot(history_10.history['loss'],'r')\n",
        "pyplot.plot(history_100.history['loss'],'b')\n",
        "pyplot.plot(history_500.history['loss'],'g')\n",
        "pyplot.ylabel('loss')\n",
        "pyplot.xlabel('epoch')\n",
        "pyplot.legend(['batch = 10','batch = 100', 'batrch = 500'], loc='upper right')\n",
        "pyplot.title('model loss')\n",
        "pyplot.subplot(212)\n",
        "#pyplot.figure(figsize=(24,14))\n",
        "pyplot.plot(history_10.history['val_loss'],'r--')\n",
        "pyplot.plot(history_100.history['val_loss'],'b--')\n",
        "pyplot.plot(history_500.history['val_loss'],'g--')\n",
        "pyplot.title('validation loss')\n",
        "pyplot.ylabel('loss')\n",
        "pyplot.xlabel('epoch')\n",
        "pyplot.legend(['batch = 10','batch = 100', 'batrch = 500'], loc='upper right')\n",
        "#pyplot.legend(['train batch = 50', 'validation batrch = 50','train batch = 100', 'validation batrch = 100','train batch = 500', 'validation batrch = 500'], loc='upper right')\n",
        "pyplot.show()"
      ],
      "execution_count": 19,
      "outputs": [
        {
          "output_type": "display_data",
          "data": {
            "image/png": "[encoded data removed]",
            "text/plain": [
              "<Figure size 1728x1008 with 2 Axes>"
            ]
          },
          "metadata": {
            "tags": [],
            "needs_background": "light"
          }
        }
      ]
    },
    {
      "cell_type": "code",
      "metadata": {
        "id": "_ahlxBehFsBt",
        "colab_type": "code",
        "colab": {
          "base_uri": "https://localhost:8080/",
          "height": 839
        },
        "outputId": "cffe9e82-a8e9-4461-bfb5-af737a157db9"
      },
      "source": [
        "pyplot.figure(figsize=(24,14))\n",
        "pyplot.subplot(211)\n",
        "#pyplot.figure(figsize=(24,14))\n",
        "pyplot.plot(history_10.history['accuracy'],'r')\n",
        "pyplot.plot(history_100.history['accuracy'],'b')\n",
        "pyplot.plot(history_500.history['accuracy'],'g')\n",
        "pyplot.ylabel('accuracy')\n",
        "pyplot.xlabel('epoch')\n",
        "pyplot.legend(['batch = 50','batch = 100', 'batrch = 500'], loc='upper right')\n",
        "pyplot.title('model accuracy')\n",
        "pyplot.subplot(212)\n",
        "#pyplot.figure(figsize=(24,14))\n",
        "pyplot.plot(history_10.history['val_accuracy'],'r--')\n",
        "pyplot.plot(history_100.history['val_accuracy'],'b--')\n",
        "pyplot.plot(history_500.history['val_accuracy'],'g--')\n",
        "pyplot.title('validation accuracy')\n",
        "pyplot.ylabel('accuracy')\n",
        "pyplot.xlabel('epoch')\n",
        "pyplot.legend(['batch = 50','batch = 100', 'batrch = 500'], loc='upper right')\n",
        "#pyplot.legend(['train batch = 50', 'validation batrch = 50','train batch = 100', 'validation batrch = 100','train batch = 500', 'validation batrch = 500'], loc='upper right')\n",
        "pyplot.show()"
      ],
      "execution_count": 21,
      "outputs": [
        {
          "output_type": "display_data",
          "data": {
            "image/png": "[encoded data removed]",
            "text/plain": [
              "<Figure size 1728x1008 with 2 Axes>"
            ]
          },
          "metadata": {
            "tags": [],
            "needs_background": "light"
          }
        }
      ]
    },
    {
      "cell_type": "code",
      "metadata": {
        "id": "9ssYr_d5Ckne",
        "colab_type": "code",
        "colab": {}
      },
      "source": [
        "pred = model.predict(padded_test)\n",
        "pred = (np.round(pred)).astype(int)\n",
        "pred = pred.reshape(3263)"
      ],
      "execution_count": 25,
      "outputs": []
    },
    {
      "cell_type": "code",
      "metadata": {
        "id": "wlYARvE5Cknj",
        "colab_type": "code",
        "colab": {}
      },
      "source": [
        "my_submission = pd.DataFrame({'id': test_df.id, 'target': pred})\n",
        "my_submission.to_csv('submission5.csv', index=False)"
      ],
      "execution_count": 26,
      "outputs": []
    }
  ]
}